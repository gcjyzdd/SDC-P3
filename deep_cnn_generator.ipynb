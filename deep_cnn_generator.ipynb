{
 "cells": [
  {
   "cell_type": "code",
   "execution_count": 1,
   "metadata": {},
   "outputs": [],
   "source": [
    "import os\n",
    "import csv\n",
    "import cv2\n",
    "import numpy as np\n",
    "\n",
    "\n",
    "samples = []\n",
    "with open('../Data/train_sim2/driving_log.csv') as csvfile:\n",
    "    reader = csv.reader(csvfile)\n",
    "    index = 0\n",
    "    for line in reader:\n",
    "        if index % 6 == 0:\n",
    "            samples.append(line)\n",
    "        index += 1\n"
   ]
  },
  {
   "cell_type": "code",
   "execution_count": 2,
   "metadata": {},
   "outputs": [],
   "source": [
    "from sklearn.model_selection import train_test_split\n",
    "from sklearn.utils import shuffle\n",
    "\n",
    "train_samples, validation_samples = train_test_split(samples, test_size=0.2)\n"
   ]
  },
  {
   "cell_type": "code",
   "execution_count": 3,
   "metadata": {},
   "outputs": [
    {
     "name": "stderr",
     "output_type": "stream",
     "text": [
      "Using TensorFlow backend.\n"
     ]
    }
   ],
   "source": [
    "import sklearn\n",
    "from keras.models import Sequential\n",
    "from keras.layers import Flatten, Dense, Lambda, Cropping2D\n",
    "from keras.layers import Convolution2D, MaxPooling2D, Dropout\n",
    "\n",
    "def generator(samples, batch_size=32):\n",
    "    num_samples = len(samples)\n",
    "    while 1: # Loop forever so the generator never terminates\n",
    "        shuffle(samples)\n",
    "        for offset in range(0, num_samples, batch_size):\n",
    "            batch_samples = samples[offset:offset+batch_size]\n",
    "\n",
    "            car_images = []\n",
    "            steering_angles = []\n",
    "            car_images_flipped = []\n",
    "            steering_angles_flipped = []\n",
    "\n",
    "            for batch_sample in batch_samples:\n",
    "                steering_center = float(batch_sample[3])\n",
    "\n",
    "                correction = 0.2  # this is a parameter to tune\n",
    "                steering_left = steering_center + correction\n",
    "                steering_right = steering_center - correction\n",
    "\n",
    "                # read in images from center, left and right cameras\n",
    "                path = ''  # fill in the path to your training IMG directory\n",
    "                img_center = ((cv2.imread(path + batch_sample[0])))\n",
    "                img_left = ((cv2.imread(path + batch_sample[1])))\n",
    "                img_right = ((cv2.imread(path + batch_sample[2])))\n",
    "\n",
    "                # add images and angles to data set\n",
    "                car_images.extend([img_center, img_left, img_right])\n",
    "                steering_angles.extend([steering_center, steering_left, steering_right])\n",
    "\n",
    "                car_images_flipped.extend([cv2.flip(img_center, 1), cv2.flip(img_left, 1),\n",
    "                                           cv2.flip(img_right, 1)])\n",
    "                steering_angles_flipped.extend([-steering_center, -steering_left, -steering_right])\n",
    "\n",
    "\n",
    "            # trim image to only see section with road\n",
    "            X_train = np.concatenate((np.array(car_images), np.array(car_images_flipped)))\n",
    "            y_train = np.concatenate((np.array(steering_angles), np.array(steering_angles_flipped)))\n",
    "\n",
    "            yield sklearn.utils.shuffle(X_train, y_train)\n"
   ]
  },
  {
   "cell_type": "code",
   "execution_count": 4,
   "metadata": {},
   "outputs": [],
   "source": [
    "# compile and train the model using the generator function\n",
    "train_generator = generator(train_samples, batch_size=32)\n",
    "validation_generator = generator(validation_samples, batch_size=32)\n",
    "\n",
    "ch, row, col = 3, 80, 320  # Trimmed image format\n",
    "\n",
    "model = Sequential()\n",
    "# Preprocess incoming data, centered around zero with small standard deviation\n",
    "model.add(Lambda(lambda x: x/255 -0.5, input_shape=(160,320,3)))\n",
    "model.add(Cropping2D(cropping=((75,20),(0,0))))\n",
    "model.add(Convolution2D(24,5,5, subsample=(2,2), activation='relu'))\n",
    "model.add(Convolution2D(36,5,5, subsample=(2,2), activation='relu'))\n",
    "model.add(Convolution2D(48,5,5, subsample=(2,2), activation='relu'))\n",
    "model.add(Dropout(0.5))\n",
    "model.add(Convolution2D(64,3,3, subsample=(1,1), activation='relu'))\n",
    "model.add(Dropout(0.5))\n",
    "model.add(Convolution2D(64,3,3, subsample=(1,1), activation='relu'))\n",
    "model.add(Dropout(0.5))\n",
    "model.add(Flatten())\n",
    "model.add(Dense(100))\n",
    "model.add(Dropout(0.5))\n",
    "model.add(Dense(50))\n",
    "model.add(Dropout(0.5))\n",
    "model.add(Dense(10))\n",
    "model.add(Dense(1))"
   ]
  },
  {
   "cell_type": "code",
   "execution_count": 5,
   "metadata": {},
   "outputs": [
    {
     "name": "stdout",
     "output_type": "stream",
     "text": [
      "Epoch 1/5\n",
      "7704/7704 [==============================] - 71s - loss: 0.0405 - val_loss: 0.0304\n",
      "Epoch 2/5\n",
      "7704/7704 [==============================] - 72s - loss: 0.0295 - val_loss: 0.0276\n",
      "Epoch 3/5\n",
      "7704/7704 [==============================] - 73s - loss: 0.0278 - val_loss: 0.0261\n",
      "Epoch 4/5\n",
      "7704/7704 [==============================] - 73s - loss: 0.0271 - val_loss: 0.0259\n",
      "Epoch 5/5\n",
      "7704/7704 [==============================] - 76s - loss: 0.0265 - val_loss: 0.0255\n",
      "Model saved.\n",
      "dict_keys(['loss', 'val_loss'])\n"
     ]
    },
    {
     "data": {
      "image/png": "[encoded data removed]",
      "text/plain": [
       "<matplotlib.figure.Figure at 0x7f1750dce710>"
      ]
     },
     "metadata": {},
     "output_type": "display_data"
    }
   ],
   "source": [
    "import matplotlib.pyplot as plt\n",
    "\n",
    "\n",
    "model.compile(loss='mse', optimizer='adam')\n",
    "history_object = model.fit_generator(train_generator, samples_per_epoch= \\\n",
    "            len(train_samples)*6, validation_data=validation_generator, \\\n",
    "            nb_val_samples=len(validation_samples)*6, nb_epoch=5, verbose = 1)\n",
    "\n",
    "model.save('model_deep_cnn_dropout_generator_sim2.h5')\n",
    "print('Model saved.')\n",
    "\n",
    "### print the keys contained in the history object\n",
    "print(history_object.history.keys())\n",
    "\n",
    "### plot the training and validation loss for each epoch\n",
    "plt.plot(history_object.history['loss'])\n",
    "plt.plot(history_object.history['val_loss'])\n",
    "plt.title('model mean squared error loss')\n",
    "plt.ylabel('mean squared error loss')\n",
    "plt.xlabel('epoch')\n",
    "plt.legend(['training set', 'validation set'], loc='upper right')\n",
    "plt.show()"
   ]
  },
  {
   "cell_type": "code",
   "execution_count": null,
   "metadata": {},
   "outputs": [],
   "source": []
  }
 ],
 "metadata": {
  "kernelspec": {
   "display_name": "Python 3",
   "language": "python",
   "name": "python3"
  },
  "language_info": {
   "codemirror_mode": {
    "name": "ipython",
    "version": 3
   },
   "file_extension": ".py",
   "mimetype": "text/x-python",
   "name": "python",
   "nbconvert_exporter": "python",
   "pygments_lexer": "ipython3",
   "version": "3.5.2"
  },
  "widgets": {
   "state": {},
   "version": "1.1.2"
  }
 },
 "nbformat": 4,
 "nbformat_minor": 2
}
